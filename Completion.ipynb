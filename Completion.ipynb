{
  "cells": [
    {
      "cell_type": "markdown",
      "metadata": {
        "id": "view-in-github",
        "colab_type": "text"
      },
      "source": [
        "<a href=\"https://colab.research.google.com/github/Antjrobles/colab-google/blob/main/Completion.ipynb\" target=\"_parent\"><img src=\"https://colab.research.google.com/assets/colab-badge.svg\" alt=\"Open In Colab\"/></a>"
      ]
    },
    {
      "cell_type": "code",
      "source": [
        "#!pip install openai IPython python-dotenv"
      ],
      "metadata": {
        "id": "l7RucIfBSF33"
      },
      "execution_count": null,
      "outputs": []
    },
    {
      "cell_type": "code",
      "source": [
        "import openai"
      ],
      "metadata": {
        "id": "1x0gy1Q0wk53"
      },
      "execution_count": null,
      "outputs": []
    },
    {
      "cell_type": "code",
      "source": [
        "import json"
      ],
      "metadata": {
        "id": "fYunoE1GxkSl"
      },
      "execution_count": null,
      "outputs": []
    },
    {
      "cell_type": "code",
      "source": [
        "from IPython.display import Markdown, display"
      ],
      "metadata": {
        "id": "wi57NhIOxnL-"
      },
      "execution_count": null,
      "outputs": []
    },
    {
      "cell_type": "code",
      "source": [
        "openai.api_key=''"
      ],
      "metadata": {
        "id": "wdZZOjxjzkRM"
      },
      "execution_count": null,
      "outputs": []
    },
    {
      "cell_type": "code",
      "source": [
        "def display_colors(colors):\n",
        "  display(Markdown(\" \".join(\n",
        "      f\"<span style='color: {color}''>{chr(9608) * 10 }</span>\"\n",
        "      for color in colors\n",
        "  )))"
      ],
      "metadata": {
        "id": "uepPA4WK0Rgy"
      },
      "execution_count": null,
      "outputs": []
    },
    {
      "cell_type": "code",
      "source": [
        "display_colors([\"#c7bbff\", \"#ff3a57\", \"#010026\"])"
      ],
      "metadata": {
        "id": "cyDGuhVf0-B7",
        "outputId": "e549bbff-078e-4188-fb28-26924e33dcba",
        "colab": {
          "base_uri": "https://localhost:8080/",
          "height": 46
        }
      },
      "execution_count": null,
      "outputs": [
        {
          "output_type": "display_data",
          "data": {
            "text/plain": [
              "<IPython.core.display.Markdown object>"
            ],
            "text/markdown": "<span style='color: #c7bbff''>██████████</span> <span style='color: #ff3a57''>██████████</span> <span style='color: #010026''>██████████</span>"
          },
          "metadata": {}
        }
      ]
    },
    {
      "cell_type": "code",
      "source": [
        "prompt = \"\"\"\n",
        "You are a color palette generating assistant that response to text prompts for color palettes\n",
        "You should generate color palettes that are aesthetically pleasing and match the text prompt\n",
        "Colors should between 2 and 8\n",
        "Return just the json object with the list of colors in hex format\n",
        "\n",
        "Desired Format: a JSON array in hex format\n",
        "\n",
        "Text: youtube logo colors\n",
        "\n",
        "Result:\n",
        "\"\"\"\n",
        "response = openai.Completion.create(\n",
        "    model=\"text-davinci-003\",\n",
        "    prompt=prompt,\n",
        "    max_tokens=200,\n",
        "\n",
        "    # n=3  # return 3 results\n",
        "    # stop=\"5.\" # stop at 5th item of the list\n",
        "    # echo=True # return prompt as well\n",
        ")\n",
        "colors = json.loads(response[\"choices\"][0][\"text\"])\n",
        "display_colors(colors)\n"
      ],
      "metadata": {
        "id": "ERPIp_q11txo",
        "outputId": "89d41ab4-a581-48b9-8d09-0e5361f6fe7d",
        "colab": {
          "base_uri": "https://localhost:8080/",
          "height": 81
        }
      },
      "execution_count": null,
      "outputs": [
        {
          "output_type": "display_data",
          "data": {
            "text/plain": [
              "<IPython.core.display.Markdown object>"
            ],
            "text/markdown": "<span style='color: #FF0000''>██████████</span> <span style='color: #FFA500''>██████████</span> <span style='color: #FFFF00''>██████████</span> <span style='color: #008000''>██████████</span> <span style='color: #0000FF''>██████████</span> <span style='color: #4B0082''>██████████</span> <span style='color: #EE82EE''>██████████</span>"
          },
          "metadata": {}
        }
      ]
    }
  ],
  "metadata": {
    "colab": {
      "provenance": [],
      "include_colab_link": true
    },
    "kernelspec": {
      "display_name": "Python 3",
      "name": "python3"
    }
  },
  "nbformat": 4,
  "nbformat_minor": 0
}
